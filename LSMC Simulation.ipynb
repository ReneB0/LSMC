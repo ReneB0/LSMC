{
 "cells": [
  {
   "cell_type": "markdown",
   "metadata": {},
   "source": [
    "# Pricing Convertible Bonds with Least-Squared Monte Carlo model\n"
   ]
  },
  {
   "cell_type": "markdown",
   "metadata": {},
   "source": [
    "**Author: René Brupbacher**\n",
    "\n",
    "**Date: 17th April 2023**\n"
   ]
  },
  {
   "cell_type": "markdown",
   "metadata": {},
   "source": [
    "## Abstract\n",
    "\n",
    "Convertible Bonds (CBs) are hybrid instruments that simultaneously offer the potential upside participation of equities, while providing a limited downside in the form of a bond floor. This work aims at presenting how one may properly model a well-known market product, a path-dependent Puttable American CB. \n",
    "\n",
    "To simulate the underlying equity path, a stock price-based model is chosen such that the stock price (S) is stochastic and deterministic. This is done by maintaining the main input factors constant, namely, interest rate and stock volatility. Additionally, the Market is assumed to be complete and the stock time-series to follow a Geometric Brownian Motion. An enhancement to the latter is introduced in the form of a more realistic non-lognormal distribution for equity, by simulating random drawdowns representing market crashes, the consequence being a skewed and leptokurtic return distribution. For this, a jump-diffusion process with predefined probability and magnitude of the jumps is used.\n",
    "\n",
    "Finally, modelling CBs with the possibility of early conversion (American Call style option) and alongside an option to Put the CB (European style option) at a predefined date in the future, a least-squared Monte Carlo (LSMC) method with backward induction technique is used.  In the modelling herewith presented, CB’s credit risk is assumed to be constant and independent from stock movement, for simplification.\n",
    "\n"
   ]
  },
  {
   "cell_type": "markdown",
   "metadata": {},
   "source": [
    "## Table of content\n",
    "- [Goals and Structure of the work](#id-section1)\n",
    "- [Input Factors](#id-section2)\n",
    "- [Calculating the Bond Floor over Time](#id-sectionBF)\n",
    "- [Simulating the Stock path](#id-sectionSP)\n",
    "- [Convertible Bond Modelling and Pricing](#id-sectionLSMC)\n",
    "- [Pricing of pure Options for benchmarking purpose and to set the lower boundery](#id-sectionOP)\n",
    "- [Sensitivity Analysis of the Pricing Model](#id-sectionPR)\n",
    "- [Summary, conclusion and limitations of this work](#id-sectionRC)\n",
    "\n",
    "\n",
    "\n",
    "\n",
    "\n"
   ]
  },
  {
   "cell_type": "markdown",
   "metadata": {},
   "source": [
    "<div id='id-section1'/>\n",
    "\n",
    "## Goals and Structure of the work\n",
    "\n",
    "The aim of this work is to provide a clear Python based code with the proposed pricing framework for modelling Convertible Bonds. With the correct pricing of these instruments at hand, one can identify, avoid, limit or even explore arbitrage opportunities. I will not go into much detail as to how a Convertible Bond works, and thus, I assume the reader has already a good understanding on the mechanics behind a CB.\n",
    "\n",
    "The work is divided into following parts:\n",
    "\n",
    "- I will first calculate the CB’s Bond-Floor in a matrix for each day of the life of the CB, with a Put option at a predefined date that gives the holder the right to redeem the Bond at a predefined price. The Bond-Floor is subject to the Risk Free Rate, the Credit Risk Spread and the Put Price/Redemption Price.\n",
    "\n",
    "- I then will simulate possible stock paths of the CB’s underlying equity in a random number matrix by using Monte Carlo methods that follows the Geometric Brownian Motion with jumps to the downside to reflect a more realistic stock path that results in a non-lognormal distribution. \n",
    "\n",
    "- To price the CB a backward induction technique called Least-squared Monte Carlo is used\n",
    "\n",
    "- To benchmark the result, I use a classical Black-Scholes pricing model used for European options\n",
    "\n",
    "- A sensitivity analysis is shown on how the model behaves with various input assumptions\n",
    "\n",
    "- Lastly, I will summarize, make a conclusion and discuss the limitation of this work\n",
    "\n",
    "Furthermore, I seed the random number generator in order to be able to discuss the model's output in this work."
   ]
  },
  {
   "cell_type": "code",
   "execution_count": 1,
   "metadata": {},
   "outputs": [],
   "source": [
    "import numpy as np\n",
    "import numpy.random as npr\n",
    "import math\n",
    "import scipy.stats as scs\n",
    "from pylab import mpl, plt\n",
    "\n",
    "%matplotlib inline\n",
    "plt.style.use('seaborn')\n",
    "mpl.rcParams['font.family'] = 'serif'"
   ]
  },
  {
   "cell_type": "code",
   "execution_count": 1,
   "metadata": {},
   "outputs": [
    {
     "data": {
      "text/html": [
       "<style>\n",
       "  table {margin-left: 0 !important;}\n",
       "</style>\n"
      ],
      "text/plain": [
       "<IPython.core.display.HTML object>"
      ]
     },
     "metadata": {},
     "output_type": "display_data"
    }
   ],
   "source": [
    "%%html\n",
    "<style>\n",
    "  table {margin-left: 0 !important;}\n",
    "</style>"
   ]
  },
  {
   "cell_type": "markdown",
   "metadata": {},
   "source": [
    "<div id='id-section2'/>\n",
    "\n",
    "## Input Factors\n",
    "\n",
    "The following tables are the required inputs for the model:\n",
    "\n",
    "&nbsp;\n",
    "\n",
    "\n",
    "| CB feature/terms||     \n",
    "| :- |-------------: |\n",
    "| CB life| 5 years  |\n",
    "| Conversion Price (Strike) | 65.00 |\n",
    "| Coupon Rate | 3.0% |\n",
    "| Coupon payment frequency | semi-annual |\n",
    "| Credit Risk Spread | 5.0% |\n",
    "| Redemption Price | 100% |\n",
    "| Conversion Period | American Style during CB's life |\n",
    "| Put Price | 100% |\n",
    "| Put Period | European Style after 2 years | \n",
    "\n",
    "\n",
    "| Underlying Stock ||     \n",
    "| :- |-------------: |\n",
    "| Initial Stock price | 50.00  |\n",
    "| Volatility | 20%  |\n",
    "| Jump Probability | 10%  |\n",
    "| Jump Magnitude| -60%  |\n",
    "| Jump Standard Deviation | 25%  |\n",
    "\n",
    "\n",
    "\n",
    "| Market rates||     \n",
    "| :- |-------------: |\n",
    "| Flat Risk Free Rate | 1.6% (p.a.)  |\n",
    "\n",
    "&nbsp;\n",
    "&nbsp;\n",
    "\n",
    "\n",
    "\n",
    "\n",
    "\n",
    "\n",
    "\n"
   ]
  },
  {
   "cell_type": "code",
   "execution_count": null,
   "metadata": {},
   "outputs": [],
   "source": [
    "S0 = 50.  # stock at t0\n",
    "K = 65.  # cb conversion price\n",
    "\n",
    "Pt = 100.  # put value\n",
    "Pt_start = 250 * 2  # put start period\n",
    "\n",
    "r = 0.016  # annual risk free rate\n",
    "cs = 0.05  # credit spread associated with issuer's credit risk\n",
    "\n",
    "T = 5  # time horizon to cb maturity (years).\n",
    "sigma = 0.20  # stock volatility\n",
    "\n",
    "# number of time intervals. (number of working days during cb's life)\n",
    "M = 250 * T\n",
    "I = 10000  # number of paths\n",
    "\n",
    "dt = T / M  # expresses 1 day as a fraction of the life of the cb\n",
    "df = math.exp(-r * dt)  # discountfactor per day"
   ]
  },
  {
   "cell_type": "code",
   "execution_count": null,
   "metadata": {},
   "outputs": [],
   "source": [
    "# Fixes the seed value for reproducibility\n",
    "np.random.seed(100)"
   ]
  },
  {
   "cell_type": "markdown",
   "metadata": {},
   "source": [
    "<div id='id-sectionBF'/>\n",
    "\n",
    "## Calculating the Bond Floor over Time\n",
    "\n",
    "The below calculates Bond Floor over the life of the Convertible Bond with an Put Option (European style) at 100 after 500 days (2 years). After the Put date, the Bond Floor drops as it is re-calculated based on remaining life to maturity."
   ]
  },
  {
   "cell_type": "code",
   "execution_count": null,
   "metadata": {},
   "outputs": [],
   "source": [
    "def bond_floor(risk, credit, n_days, n_paths):\n",
    "    \"\"\"calculates the bond floor over the cb's life \n",
    "\n",
    "    parameters:\n",
    "        risk (float): annual risk free rate\n",
    "        credit (float):  issuer's credit risk\n",
    "        n_days (float):  number of working days during cb's life\n",
    "        n_paths (float):  number of simulated stock paths    \n",
    "\n",
    "    Returns:\n",
    "        B (float): bond floor as a decimal number based on the inputs above\n",
    "    \"\"\"\n",
    "\n",
    "    pmt = 2  # coupon frequency per period\n",
    "\n",
    "    ytm = r + cs  # current market yield to maturity e.g. risk-free rate & flat credit risk\n",
    "    fv = 100  # redemption Value at Maturity\n",
    "    c = 0.03  # coupon rate\n",
    "\n",
    "    # a two-dimensional ndarray object of a shape that corresponds with number of paths and\n",
    "    # time of the stock simulation is instantiated.\n",
    "    B = np.zeros((M + 1, I))\n",
    "\n",
    "    for t in range(0, M+1, 1):\n",
    "\n",
    "        # decision tree to check whether current period is before, during, or after put period\n",
    "        # to define bond floor\n",
    "\n",
    "        if t < (Pt_start):\n",
    "\n",
    "            # time left to put (e.g. the first 2 years)\n",
    "            iii = (Pt_start - t) / 250\n",
    "\n",
    "            # calculates the bond floor to Put\n",
    "            B[t] = ((Pt*c/pmt*(1-(1+ytm/pmt)**(-pmt*iii)))/(ytm/pmt)) + \\\n",
    "                Pt*(1+(ytm/pmt))**(-pmt*iii)\n",
    "\n",
    "        elif t >= (Pt_start) and t <= (Pt_start) + 1:\n",
    "\n",
    "            B[t] = Pt  # cb putable at 100 if time (t) is between 500 and 501\n",
    "\n",
    "        else:\n",
    "\n",
    "            ii = (M - t) / 250  # time left to maturity (e.g. the last 3 years)\n",
    "\n",
    "            B[t] = ((fv*c/pmt*(1-(1+ytm/pmt)**(-pmt*ii)))/(ytm/pmt)) + \\\n",
    "                fv*(1+(ytm/pmt))**(-pmt*ii)  # calculates new bond floor\n",
    "\n",
    "    return B"
   ]
  },
  {
   "cell_type": "code",
   "execution_count": null,
   "metadata": {},
   "outputs": [],
   "source": [
    "BF = bond_floor(r, cs, M, I)\n",
    "\n",
    "Floor = BF[0].mean()  # bond floor at t0 for the cb"
   ]
  },
  {
   "cell_type": "markdown",
   "metadata": {},
   "source": [
    "The below chart illustrates the Bond Floor over the life of the Convertible Bond. After 500 working-days, the CB is puttable at 100 during one day. Thereafter, the bond price drops to its new natural floor based on the redemption value and remaining life as the put is no longer active."
   ]
  },
  {
   "cell_type": "code",
   "execution_count": null,
   "metadata": {},
   "outputs": [],
   "source": [
    "plt.figure(figsize=(10, 6))\n",
    "plt.title('CB Bond Floor over time')\n",
    "plt.plot(BF[:, :10])\n",
    "plt.xlabel('Time (days)')\n",
    "plt.ylabel('Bond Floor')\n",
    "print('The Bond Floor for the CB at t0 is: ' +\n",
    "      str(float(\"{0:.2f}\".format(Floor))))"
   ]
  },
  {
   "cell_type": "markdown",
   "metadata": {},
   "source": [
    "The below calculates Bond Floor over the life of a straight Bond without any optionality."
   ]
  },
  {
   "cell_type": "code",
   "execution_count": null,
   "metadata": {},
   "outputs": [],
   "source": [
    "SB = np.zeros(M + 1)\n",
    "\n",
    "pmt = 2  # coupon frequency per period\n",
    "\n",
    "ytm = r + cs  # current market yield to maturity e.g. risk-free rate & flat credit risk\n",
    "fv = 100  # redemption Value at maturity\n",
    "c = 0.03  # coupon rate\n",
    "\n",
    "for t in range(0, M+1, 1):\n",
    "    k = (M - t) / 250  # time left to maturity\n",
    "    SB[t] = ((fv*c/pmt*(1-(1+ytm/pmt)**(-pmt*k))) /\n",
    "             (ytm/pmt)) + fv*(1+(ytm/pmt))**(-pmt*k)\n",
    "\n",
    "B_floor = SB[0]"
   ]
  },
  {
   "cell_type": "code",
   "execution_count": null,
   "metadata": {},
   "outputs": [],
   "source": [
    "plt.figure(figsize=(10, 6))\n",
    "plt.title('Straight Bond value over time')\n",
    "plt.plot(SB)\n",
    "plt.xlabel('Time')\n",
    "plt.ylabel('Bond Floor')\n",
    "print('The Bond Floor for the CB at t0 is: ' +\n",
    "      str(float(\"{0:.2f}\".format(B_floor))))"
   ]
  },
  {
   "cell_type": "markdown",
   "metadata": {},
   "source": [
    "<div id='id-sectionSP'/>\n",
    "\n",
    "## Simulating the stock path\n",
    "\n",
    "The single stock price paths are simulated based on the initial stock prices for the stochastic components with regular Monte Carlo, the random number matrix and the difference equation for the geometric Brownian motion.\n"
   ]
  },
  {
   "cell_type": "markdown",
   "metadata": {},
   "source": [
    "The below parameters for the Jumps (probability, magnitude and standard deviation) are estimates only. However, it's worthwhile to note that jumps should be calibrated to Credit Default Swap of the issuer (e.g. the higher the CDS, the higher the probability). In this work, I assume the below constant estimates of jumps for any credit spread and the company will always honour its debt liability."
   ]
  },
  {
   "cell_type": "code",
   "execution_count": null,
   "metadata": {},
   "outputs": [],
   "source": [
    "# jump parameters\n",
    "\n",
    "lamb = 0.1  # jump probability\n",
    "mu = -0.60  # stock Jump\n",
    "delta = 0.25  # standard deviation of jump"
   ]
  },
  {
   "cell_type": "code",
   "execution_count": null,
   "metadata": {},
   "outputs": [],
   "source": [
    "def stock_simulation(jump_prob, jump_mag, jump_vol, stock_vol, stock_0, n_days, n_paths, day_fract, risk):\n",
    "    \"\"\"simulates different stock price paths during the life of the cb, including shocks in the forms of jumps to the \n",
    "        the downside.\n",
    "\n",
    "    parameters:\n",
    "        jump_prob (float): jump probability\n",
    "        jump_mag (float): stock Jump magnitude\n",
    "        jump_vol (float_): standard deviation of jump size\n",
    "        stock_vol (float): stock volatility\n",
    "        stock_0 (float): stock at T=0\n",
    "        n_days (integer): number of working days during cb's life\n",
    "        n_paths (integer): number of simulated stock paths\n",
    "        day_fract (float): 1 day as a fraction of the life of the cb \n",
    "        risk (float): annual risk free rate \n",
    "\n",
    "    Returns:\n",
    "        S (array object): stock simulation path with jumps\n",
    "    \"\"\"\n",
    "\n",
    "    # fixes the seed value for reproducibility\n",
    "    np.random.seed(100)\n",
    "\n",
    "    # drift correction for jump to maintain risk neutrality\n",
    "    rj = jump_prob * (np.exp(jump_mag + 0.5 * jump_vol ** 2) - 1)\n",
    "\n",
    "    # a two-dimensional ndarray object of the same shape is instantiated and\n",
    "    # the initial values for the single stock price paths are set.\n",
    "    S = np.zeros((n_days + 1, n_paths))\n",
    "    S[0] = stock_0  # initial stock level at t0\n",
    "\n",
    "    # the first set of standard normally distributed random numbers\n",
    "    sn1 = npr.standard_normal((n_days + 1, n_paths))\n",
    "    # the second set of standards normally distributed random numbers\n",
    "    sn2 = npr.standard_normal((n_days + 1, n_paths))\n",
    "    # poisson-distributed pseudorandom numbers for the jump component\n",
    "    poi = npr.poisson(jump_prob * day_fract, (n_days + 1, n_paths))\n",
    "\n",
    "    for t in range(1, M + 1, 1):  # selects the right time slice from the relevant random number set\n",
    "\n",
    "        # the simulation of the stock price values at t given the sets of random numbers\n",
    "        S[t] = S[t - 1] * (np.exp((r - rj - 0.5 * stock_vol ** 2) * day_fract\n",
    "                           + stock_vol * np.sqrt(day_fract) * sn1[t])\n",
    "                           + (np.exp(jump_mag + jump_vol * sn2[t]) - 1)\n",
    "                           * poi[t])\n",
    "\n",
    "        # maximum function to avoid negative values for the stock price\n",
    "        S[t] = np.maximum(S[t], 0)\n",
    "\n",
    "    return S"
   ]
  },
  {
   "cell_type": "code",
   "execution_count": null,
   "metadata": {},
   "outputs": [],
   "source": [
    "# simulating stock path\n",
    "\n",
    "S = stock_simulation(lamb, mu, delta, sigma, S0, M, I, dt, r)"
   ]
  },
  {
   "cell_type": "markdown",
   "metadata": {},
   "source": [
    "#### Plotting the first 10 simulated paths\n",
    "The below charts plots the first 10 simulated stock paths with random jumps to the downside. "
   ]
  },
  {
   "cell_type": "code",
   "execution_count": null,
   "metadata": {},
   "outputs": [],
   "source": [
    "plt.figure(figsize=(10, 6))\n",
    "plt.plot(S[:, :10], lw=1.5)\n",
    "plt.xlabel('Time (days)')\n",
    "plt.ylabel('Stock Level')"
   ]
  },
  {
   "cell_type": "markdown",
   "metadata": {},
   "source": [
    "#### Distribution Chart of Stock prices\n",
    "\n",
    "To visually show the distribution of the stock prices, a histogram is shown below. To statistically test the distribution characteristics, Skew and Kurtosis is calculated with the help of SciPy."
   ]
  },
  {
   "cell_type": "code",
   "execution_count": null,
   "metadata": {},
   "outputs": [],
   "source": [
    "plt.figure(figsize=(10, 6))\n",
    "plt.hist(S[-1], bins=35, label='frequency')\n",
    "plt.axvline(S[-1].mean(), color='r', label='mean')\n",
    "plt.axvline(S[-1].mean() + S[-1].std(), color='y', label='1 stdv up')\n",
    "plt.axvline(S[-1].mean() - S[-1].std(), color='y', label='1 stdv down')\n",
    "plt.legend(loc=0)"
   ]
  },
  {
   "cell_type": "markdown",
   "metadata": {},
   "source": [
    "#### Skewness and Kurtosis of Stock returns\n",
    "\n"
   ]
  },
  {
   "cell_type": "code",
   "execution_count": null,
   "metadata": {},
   "outputs": [],
   "source": [
    "def print_statistics(array):\n",
    "    \"\"\"computes several descriptive statistics of the stock prices.\"\"\"\n",
    "\n",
    "    sta = scs.describe(array)\n",
    "\n",
    "    print(\"%14s %15s\" % ('statistic', 'value'))\n",
    "    print(\"%30s\" % (25 * \"-\"))\n",
    "    print(\"%14s %15.5f\" % ('skew', round(sta[4], 2)))\n",
    "    print(\"%14s %15.5f\" % ('kurtosis', round(sta[5], 2)))"
   ]
  },
  {
   "cell_type": "code",
   "execution_count": null,
   "metadata": {},
   "outputs": [],
   "source": [
    "print_statistics(S.flatten())"
   ]
  },
  {
   "cell_type": "markdown",
   "metadata": {},
   "source": [
    "- If skewness is less than -1 or greater than 1, the distribution is highly skewed. \n",
    "- If skewness is between -1 and -0.5 or between 0.5 and 1, the distribution is moderately skewed. \n",
    "- If skewness is between -0.5 and 0.5, the distribution is approximately symmetric. \n",
    "- If Kurtosis is above 3, then the distribution has heavier tails than a normal distribution\n",
    "\n"
   ]
  },
  {
   "cell_type": "markdown",
   "metadata": {},
   "source": [
    "\n",
    "A skew value of above 1 in a Stock Model is indicating a long tail on the right side (positive skew). This is expected as equity values cannot go below zero but have unlimited upside. A kurtosis above 3 is known as leptokurtic distribution. Characteristics of this type of distribution is one with long tails (outliers) and hence, occasional extreme values. Given the above values for Skewness and Kurtosis, I am confident that the stock returns follow a non-lognormal distribution."
   ]
  },
  {
   "cell_type": "markdown",
   "metadata": {},
   "source": [
    "<div id='id-sectionLSMC'/>\n",
    "\n",
    "## Convertible Bond Modelling and Pricing\n"
   ]
  },
  {
   "cell_type": "markdown",
   "metadata": {},
   "source": [
    "The specified Convertible Bond presents both a holder call and put clause. The call can be exercised at any given time step and stock is received if the continuation value is below the parity value. On the other hand, the put can be exercised after two years and thus altering the bond floor. The inner value of the CB is the maximum of parity or the Bond Floor. \n",
    "\n",
    "For pricing this Convertible Bond using Monte Carlo methods, stock price paths have been simulated. Then, at each time step, for each path I calculate the continuation value with the help of a polynomial regression. I then evaluate if the inner value exceeds the continuation value. If this is the case, the inner value is used, else the previous continuation value is discounted. For the last step before t0, the present value is calculated as the average over the calculated CB Value vector derived from the LSMC model and discounted one more day to the present."
   ]
  },
  {
   "cell_type": "code",
   "execution_count": null,
   "metadata": {},
   "outputs": [],
   "source": [
    "def lsmc(stock_sim, strike_price, bond_floor, n_days, day_fract):\n",
    "    \"\"\"calculates the cb fair value as of today.\n",
    "\n",
    "    parameters:    \n",
    "\n",
    "        stock_sim (array object): stock simulation over the life of the cb\n",
    "        strike_price (float): cb conversion price \n",
    "        bond_floor (array object): bond floor over the life of the cb\n",
    "        n_days (integer): number of working days during cb's life\n",
    "        day_fract (float): 1 day as a fraction of the life of the cb\n",
    "\n",
    "    Returns:\n",
    "        theo_CB (float): theoretical cb price at t=0 by using the least-squares monte carlo valuation\n",
    "    \"\"\"\n",
    "\n",
    "    # fixes the seed value for reproducibility\n",
    "    np.random.seed(100)\n",
    "\n",
    "    df = math.exp(-r * day_fract)  # discount factor\n",
    "\n",
    "    # inner Value matrix (max of parity or bond floor) over all stock price path\n",
    "    h = np.maximum.reduce([stock_sim / strike_price * 100, bond_floor])\n",
    "\n",
    "    # sets the initial simulated CB price values to the inner values at maturity\n",
    "    V = h[-1]\n",
    "\n",
    "    # the algorithm works based on backwards induction starting at M-1 and then going backwards to 0\n",
    "    for t in range(n_days-1, 0, -1):\n",
    "\n",
    "        # Returns a vector of coefficients that minimises the squared error\n",
    "        reg = np.polyfit(stock_sim[t], df * V, deg=5)\n",
    "        # Evaluates the polynomial (continuation value) at specific stock values\n",
    "        C = np.polyval(reg, stock_sim[t])\n",
    "\n",
    "        # If the inner CB value (h) is higher than the approximated continuation value (C),\n",
    "        # conversion would take place. for in-the-money CBs and for out-of-the money CBs the \n",
    "        # bond floor is triggered. both mechanics would force the cb back to its inner value. \n",
    "        # in all other cases, the discounted simulated cb price prevails.\n",
    "        V = np.where(h[t] > C, h[t], df * V)\n",
    "\n",
    "    # the pv is calculated as the average over the calculated cb value vector\n",
    "    # as derived based on the lscm algorithm and discounted for\n",
    "    # the last remaining time interval to the present (t=0).\n",
    "    theo_CB = df * V.mean()\n",
    "\n",
    "    return theo_CB"
   ]
  },
  {
   "cell_type": "code",
   "execution_count": null,
   "metadata": {},
   "outputs": [],
   "source": [
    "theo_CB_calc = lsmc(S, K, BF, M, dt)"
   ]
  },
  {
   "cell_type": "code",
   "execution_count": null,
   "metadata": {},
   "outputs": [],
   "source": [
    "print('CB theoretical value is: ' + str(float(\"{0:.2f}\".format(theo_CB_calc))))\n",
    "print('CB Bond Value is: ' + str(float(\"{0:.2f}\".format(Floor))))\n",
    "print('CB Option Value is: ' +\n",
    "      str(float(\"{0:.2f}\".format(theo_CB_calc - Floor))))"
   ]
  },
  {
   "cell_type": "markdown",
   "metadata": {},
   "source": [
    "\n",
    "The specified Convertible Bond has a theoretical price of 104.14. This can be split between the Bond value (93.36) and the option value (10.78). \n",
    "\n"
   ]
  },
  {
   "cell_type": "markdown",
   "metadata": {},
   "source": [
    "<div id='id-sectionOP'/>\n",
    "\n",
    "## Pricing of pure Options for benchmarking purpose and to set the lower boundery"
   ]
  },
  {
   "cell_type": "markdown",
   "metadata": {},
   "source": [
    "To benchmark the theoretical CB value from the LSMC model, I calculate the value of a plain vanilla European Stock Call Option and Bond Put Option. For the call option is use the the Black-Scholes model, and for the Bond Put option, I am using the Black-76 model which is a variant of the Black-Sholes option pricing model. After both Option values have been calculated, I add the Bondfloor (bond component) from the straight bond to the Option values in order to make it comparable to the LSMC CB price. This compination should act as a lower boundery which the CB's theortical value should not breach."
   ]
  },
  {
   "cell_type": "markdown",
   "metadata": {},
   "source": [
    "#### Five year European Call Option with Black-Scholes model\n",
    "Having the simulated stock price values already available, the same stock simulation is used for the model model. To price the European Call options, it is only a matter of two more vectorised operations as seen below. "
   ]
  },
  {
   "cell_type": "code",
   "execution_count": null,
   "metadata": {},
   "outputs": [],
   "source": [
    "# the payoff vector of the Call option\n",
    "CaT = np.maximum(S - K, 0)  \n",
    "# the monte carlo estimator of the option price discounted to t0\n",
    "C0 = math.exp(-r * T) * CaT.mean()\n",
    "print('Call Option Value is: ' + str(float(\"{0:.2f}\".format(C0))))"
   ]
  },
  {
   "cell_type": "markdown",
   "metadata": {},
   "source": [
    "#### Two year European Put Option with Black-76 model\n",
    "For the implied volatility in the model, I use an simplified assumption that the volatility equals the Macaulay duration of zero coupon bond with 5 years to maturity. E.g. the volatility number equals the number of years. "
   ]
  },
  {
   "cell_type": "code",
   "execution_count": null,
   "metadata": {},
   "outputs": [],
   "source": [
    "# inputs\n",
    "K_b = Pt  # put Price\n",
    "r_b = r  # risk free rate\n",
    "sigma_b = T / 100  # estimate of the Implied volatility for the underlying price\n",
    "T_b = Pt_start / 250  # time to put in years\n",
    "Fwd_b = SB[500]  # forward price of straight bond in two years\n",
    "\n",
    "# calculation\n",
    "dt_b = sigma_b * np.sqrt(T_b)\n",
    "d1 = (math.log(Fwd_b / K_b)+(0.5 * sigma_b ** 2) * T_b) / dt_b\n",
    "d2 = d1 - dt\n",
    "nd1 = scs.norm.cdf(d1)\n",
    "nd2 = scs.norm.cdf(d2)\n",
    "nnd1 = scs.norm.cdf(-d1)\n",
    "nnd2 = scs.norm.cdf(-d2)\n",
    "\n",
    "\n",
    "P0 = math.exp(-r_b * T_b) * (K_b * nnd2 - Fwd_b * nnd1)\n",
    "\n",
    "print('Put Option Value is: ' + str(float(\"{0:.2f}\".format(P0))))"
   ]
  },
  {
   "cell_type": "code",
   "execution_count": null,
   "metadata": {},
   "outputs": [],
   "source": [
    "CPB = C0 + P0 + B_floor  # call + put + straight Bond\n",
    "\n",
    "print('Value of pure Option (Call & Put) & Bond Floor is: ' +\n",
    "      str(float(\"{0:.2f}\".format(CPB))))\n",
    "print('CB theoretical value from the LSMC model is: ' +\n",
    "      str(float(\"{0:.2f}\".format(theo_CB_calc))))\n",
    "print('Absolute difference is: ' +\n",
    "      str(float(\"{0:.2f}\".format(theo_CB_calc - B_floor - C0 - P0))))\n",
    "print(\"CB premium is: \"+\"{:.2%}\".format((theo_CB_calc-CPB)/CPB))"
   ]
  },
  {
   "cell_type": "markdown",
   "metadata": {},
   "source": [
    "The sum of the European option values plus the straight bond represents a lower boundary of the CB theoretical value. The difference is generally called the early exercise premium for the American Call in the CB. Hence, the theoretical value in the LSMC pricing model should not drop below the sum of the pure option values plus the bond component.\n",
    "As one can be seen from the values above, the theoretical CB value is approx. 7.4% higher when compared to the traditional pure option & bond value."
   ]
  },
  {
   "cell_type": "markdown",
   "metadata": {},
   "source": [
    "<div id='id-sectionPR'/>\n",
    "\n",
    "## Sensitivity Analysis of the Pricing Model"
   ]
  },
  {
   "cell_type": "markdown",
   "metadata": {},
   "source": [
    "In this section, I review the behaviour of the pricing model using the relevant risk factors (underlying equity, volatility,  and credit spread). The below charts shows the sensitivity of the model to these four risk factors. I assume that the other parameters remain unchanged."
   ]
  },
  {
   "cell_type": "code",
   "execution_count": null,
   "metadata": {},
   "outputs": [],
   "source": [
    "# calculating fair value based on different volatility levels\n",
    "\n",
    "CB_array_Vol = []\n",
    "Vol_array = []\n",
    "\n",
    "S0 = 50.\n",
    "r = 0.016\n",
    "cs = 0.05\n",
    "\n",
    "for i in np.arange(0.01, 0.4, 0.01):\n",
    "    sigma = i\n",
    "    \n",
    "    S_vol = stock_simulation(lamb, mu, delta, sigma, S0, M, I, dt, r)\n",
    "    \n",
    "    theo_CB_calc_vol = lsmc(S_vol, K, BF, M, dt)\n",
    "    \n",
    "    CB_array_Vol.append(theo_CB_calc_vol)\n",
    "    \n",
    "    Vol_array.append(i)"
   ]
  },
  {
   "cell_type": "code",
   "execution_count": null,
   "metadata": {},
   "outputs": [],
   "source": [
    "# calculating Fair Value based on different credit spreads\n",
    "\n",
    "CB_array_CS = []\n",
    "cs_array = []\n",
    "\n",
    "S0 = 50.\n",
    "r = 0.016\n",
    "\n",
    "\n",
    "# adjusting credit spreads from 0.01 to 0.30 with 0.01 steps\n",
    "for i in np.arange(0.01, 0.30, 0.01):\n",
    "    cs = i\n",
    "   \n",
    "    BF_cs = bond_floor(r, cs, M, I)\n",
    "    \n",
    "    theo_CB_calc_cs = lsmc(S, K, BF_cs, M, dt)\n",
    "\n",
    "    CB_array_CS.append(round(theo_CB_calc_cs, 1))\n",
    "    \n",
    "    cs_array.append(i)"
   ]
  },
  {
   "cell_type": "code",
   "execution_count": null,
   "metadata": {},
   "outputs": [],
   "source": [
    "# calculating fair value based on different prices of the underlying\n",
    "\n",
    "CB_array_EQ = []\n",
    "EQ_array = []\n",
    "\n",
    "sigma = 0.2\n",
    "r = 0.016\n",
    "cs = 0.05\n",
    "\n",
    "for i in range(1, 150, 10):\n",
    "    S0 = i\n",
    "    \n",
    "    S_stock = stock_simulation(lamb, mu, delta, sigma, S0, M, I, dt, r)\n",
    "\n",
    "    theo_CB_calc_stock = lsmc(S_stock, K, BF, M, dt)\n",
    "\n",
    "    CB_array_EQ.append(theo_CB_calc_stock)\n",
    "    \n",
    "    EQ_array.append(i)"
   ]
  },
  {
   "cell_type": "code",
   "execution_count": null,
   "metadata": {},
   "outputs": [],
   "source": [
    "figure, axis = plt.subplots(2, 2, figsize=(14, 10), constrained_layout=True)\n",
    "\n",
    "Y1 = CB_array_EQ\n",
    "X1 = EQ_array\n",
    "Y2 = CB_array_Vol\n",
    "X2 = Vol_array\n",
    "Y3 = CB_array_CS\n",
    "X3 = cs_array\n",
    "\n",
    "axis[0, 0].plot(X1, Y1)\n",
    "axis[0, 0].set_xlabel('Price of the Underlying')\n",
    "axis[0, 0].set_ylabel('CB Price')\n",
    "axis[0, 0].set_title('Figure 1', size=15, fontweight=\"bold\")\n",
    "\n",
    "axis[0, 1].plot(X2, Y2)\n",
    "axis[0, 1].set_xlabel('Volatility')\n",
    "axis[0, 1].set_ylabel('CB Price')\n",
    "axis[0, 1].set_title('Figure 2', size=15, fontweight=\"bold\")\n",
    "\n",
    "axis[1, 0].plot(X3, Y3)\n",
    "axis[1, 0].set_xlabel('Credit Spread')\n",
    "axis[1, 0].set_ylabel('CB Price')\n",
    "axis[1, 0].set_title('Figure 3', size=15, fontweight=\"bold\")\n",
    "\n",
    "plt.delaxes(axis[1, 1])\n",
    "\n",
    "plt.show()"
   ]
  },
  {
   "cell_type": "markdown",
   "metadata": {},
   "source": [
    "Figure 1 shows the sensitivity of the model to the underlying price of the CB. According to the figure, the price of the CB is an increasing function of the price of the underlying equity due to the conversion option. That means the CB price converges to parity in case of \"in-the-money\" CBs, and converges to the bond floor in case of \"out-the-money\" CBs.\n",
    "\n",
    "Figure 2 shows the sensitivity of the model to the volatility of the underlying equity. When volatility increases, the value of the conversion option and therefore the price of the CB increases. \n",
    "\n",
    "Figure 3 shows the sensitivity of the model to credit spread changes. In this case, the CB price decreases when credit spread increases. This is not too surprising as a CB is basically a bond plus the call option. Worthwile mentioning is, that while the credit spread incrases, the CB price is not decrasing over all credit spreads. This is due to the embedded put option in the CB, which acts as a floor that defines the lower bound of the bond value regardless of the credit spread. "
   ]
  },
  {
   "cell_type": "markdown",
   "metadata": {},
   "source": [
    "<div id='id-sectionRC'/>\n",
    "\n",
    "## Summary, conclusion and limitations of this work"
   ]
  },
  {
   "cell_type": "markdown",
   "metadata": {},
   "source": [
    "In this work, I have presented a concept to model and price a Convertible Bond with American Call and European Put features. I believe I have successfully demonstrated how to use the LSMC, a method to cope with these features. With the help of a traditional Black-Scholes model for the Stock Call option, and a Black-76 model for the Bond Put option, I was able to estimate the synthetically replicate these features, and hence to benchmark the CB's theoretical value derived from the LSMC model. \n",
    "\n",
    "Throughout this work, I have assumed a constant credit risk. However, variations in credit risk do indeed impact the Convertible Bond price. Thus, a very natural extension one shall consider is to include a credit risk profile over the life of the CB. Similar, as I have assumed a fixed interest rate level, extending the provided pricing framework to a setting where the interest rate follows a given term structure might be advisable.\n",
    "\n",
    "Another important aspect of this work is the model's sensibility to stock volatility. The model  uses a constant and deterministic stock volatility. In real world, future stock movements are not a predefined parameter, but rather retrieved from market data. This volatility effect poses a serious limitation for general use of LSMC methods to price Convertible Bonds. A possible extension to the presented pricing framework could be to consider a model where the volatility is not constant and deterministic but stochastic.\n",
    "\n",
    "Furthermore, to price a bond put option is not as straight forward as I have hoped it is, as it requires assumptions about interest rate volatility. This in itself could already be an academic paper which is out of scope for the purpose of this work, and thus I have used rather naïve assumptions.\n",
    "\n",
    "Lastly, the value derived from the benchmarking has some flaws when compared to a true convertible bond. For example, the options embedded in a convertible bond are not detachable from the bond. Instead, the debt is converted into equity upon conversion, and at some point there is no debt, but just more shares. Another limitation is that call options typically require investors to make an additional payment within a specified time frame in order to exercise it and receive stock in exchange. Funds can be obtained by selling the straight bond, but the value is not certain and additional funds may be required at extra cost. "
   ]
  }
 ],
 "metadata": {
  "kernelspec": {
   "display_name": "Python 3",
   "language": "python",
   "name": "python3"
  },
  "language_info": {
   "codemirror_mode": {
    "name": "ipython",
    "version": 3
   },
   "file_extension": ".py",
   "mimetype": "text/x-python",
   "name": "python",
   "nbconvert_exporter": "python",
   "pygments_lexer": "ipython3",
   "version": "3.8.5"
  },
  "varInspector": {
   "cols": {
    "lenName": 16,
    "lenType": 16,
    "lenVar": 40
   },
   "kernels_config": {
    "python": {
     "delete_cmd_postfix": "",
     "delete_cmd_prefix": "del ",
     "library": "var_list.py",
     "varRefreshCmd": "print(var_dic_list())"
    },
    "r": {
     "delete_cmd_postfix": ") ",
     "delete_cmd_prefix": "rm(",
     "library": "var_list.r",
     "varRefreshCmd": "cat(var_dic_list()) "
    }
   },
   "types_to_exclude": [
    "module",
    "function",
    "builtin_function_or_method",
    "instance",
    "_Feature"
   ],
   "window_display": false
  }
 },
 "nbformat": 4,
 "nbformat_minor": 4
}
